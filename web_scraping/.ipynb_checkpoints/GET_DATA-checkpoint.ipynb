{
 "cells": [
  {
   "cell_type": "code",
   "execution_count": 1,
   "id": "fa181b62-f773-48db-8168-28654eff16f7",
   "metadata": {},
   "outputs": [],
   "source": [
    "from selenium import webdriver\n",
    "from selenium.webdriver.common.keys import Keys\n",
    "from selenium.webdriver.common.by import By\n",
    "import time \n",
    "import numpy as np\n",
    "import pandas as pd"
   ]
  },
  {
   "cell_type": "code",
   "execution_count": 5,
   "id": "9eea4ee1-ab67-4986-850b-103a07d01c37",
   "metadata": {},
   "outputs": [
    {
     "ename": "NoSuchElementException",
     "evalue": "Message: Unable to locate element: .style__withDivider___3R1Em style__indented___pY5Wc; For documentation on this error, please visit: https://www.selenium.dev/documentation/webdriver/troubleshooting/errors#no-such-element-exception\nStacktrace:\nRemoteError@chrome://remote/content/shared/RemoteError.sys.mjs:8:8\nWebDriverError@chrome://remote/content/shared/webdriver/Errors.sys.mjs:193:5\nNoSuchElementError@chrome://remote/content/shared/webdriver/Errors.sys.mjs:511:5\ndom.find/</<@chrome://remote/content/shared/DOM.sys.mjs:136:16\n",
     "output_type": "error",
     "traceback": [
      "\u001b[0;31m---------------------------------------------------------------------------\u001b[0m",
      "\u001b[0;31mNoSuchElementException\u001b[0m                    Traceback (most recent call last)",
      "Cell \u001b[0;32mIn[5], line 15\u001b[0m\n\u001b[1;32m     13\u001b[0m element\u001b[38;5;241m.\u001b[39mclick()\n\u001b[1;32m     14\u001b[0m time\u001b[38;5;241m.\u001b[39msleep(\u001b[38;5;241m0.3\u001b[39m)\n\u001b[0;32m---> 15\u001b[0m link_elements \u001b[38;5;241m=\u001b[39m element\u001b[38;5;241m.\u001b[39mfind_element(By\u001b[38;5;241m.\u001b[39mCLASS_NAME, \u001b[38;5;124m\"\u001b[39m\u001b[38;5;124mstyle__withDivider___3R1Em style__indented___pY5Wc\u001b[39m\u001b[38;5;124m\"\u001b[39m)\u001b[38;5;241m.\u001b[39mfind_elements(By\u001b[38;5;241m.\u001b[39mXPATH, \u001b[38;5;124m'\u001b[39m\u001b[38;5;124m.//li\u001b[39m\u001b[38;5;124m'\u001b[39m)\n\u001b[1;32m     16\u001b[0m \u001b[38;5;28;01mfor\u001b[39;00m link_li \u001b[38;5;129;01min\u001b[39;00m link_elements:\n\u001b[1;32m     17\u001b[0m     link \u001b[38;5;241m=\u001b[39m link_li\u001b[38;5;241m.\u001b[39mfind_element(By\u001b[38;5;241m.\u001b[39mTAG_NAME, \u001b[38;5;124m'\u001b[39m\u001b[38;5;124ma\u001b[39m\u001b[38;5;124m'\u001b[39m)\n",
      "File \u001b[0;32m~/anaconda3/lib/python3.12/site-packages/selenium/webdriver/remote/webelement.py:417\u001b[0m, in \u001b[0;36mWebElement.find_element\u001b[0;34m(self, by, value)\u001b[0m\n\u001b[1;32m    414\u001b[0m     by \u001b[38;5;241m=\u001b[39m By\u001b[38;5;241m.\u001b[39mCSS_SELECTOR\n\u001b[1;32m    415\u001b[0m     value \u001b[38;5;241m=\u001b[39m \u001b[38;5;124mf\u001b[39m\u001b[38;5;124m'\u001b[39m\u001b[38;5;124m[name=\u001b[39m\u001b[38;5;124m\"\u001b[39m\u001b[38;5;132;01m{\u001b[39;00mvalue\u001b[38;5;132;01m}\u001b[39;00m\u001b[38;5;124m\"\u001b[39m\u001b[38;5;124m]\u001b[39m\u001b[38;5;124m'\u001b[39m\n\u001b[0;32m--> 417\u001b[0m \u001b[38;5;28;01mreturn\u001b[39;00m \u001b[38;5;28mself\u001b[39m\u001b[38;5;241m.\u001b[39m_execute(Command\u001b[38;5;241m.\u001b[39mFIND_CHILD_ELEMENT, {\u001b[38;5;124m\"\u001b[39m\u001b[38;5;124musing\u001b[39m\u001b[38;5;124m\"\u001b[39m: by, \u001b[38;5;124m\"\u001b[39m\u001b[38;5;124mvalue\u001b[39m\u001b[38;5;124m\"\u001b[39m: value})[\u001b[38;5;124m\"\u001b[39m\u001b[38;5;124mvalue\u001b[39m\u001b[38;5;124m\"\u001b[39m]\n",
      "File \u001b[0;32m~/anaconda3/lib/python3.12/site-packages/selenium/webdriver/remote/webelement.py:395\u001b[0m, in \u001b[0;36mWebElement._execute\u001b[0;34m(self, command, params)\u001b[0m\n\u001b[1;32m    393\u001b[0m     params \u001b[38;5;241m=\u001b[39m {}\n\u001b[1;32m    394\u001b[0m params[\u001b[38;5;124m\"\u001b[39m\u001b[38;5;124mid\u001b[39m\u001b[38;5;124m\"\u001b[39m] \u001b[38;5;241m=\u001b[39m \u001b[38;5;28mself\u001b[39m\u001b[38;5;241m.\u001b[39m_id\n\u001b[0;32m--> 395\u001b[0m \u001b[38;5;28;01mreturn\u001b[39;00m \u001b[38;5;28mself\u001b[39m\u001b[38;5;241m.\u001b[39m_parent\u001b[38;5;241m.\u001b[39mexecute(command, params)\n",
      "File \u001b[0;32m~/anaconda3/lib/python3.12/site-packages/selenium/webdriver/remote/webdriver.py:354\u001b[0m, in \u001b[0;36mWebDriver.execute\u001b[0;34m(self, driver_command, params)\u001b[0m\n\u001b[1;32m    352\u001b[0m response \u001b[38;5;241m=\u001b[39m \u001b[38;5;28mself\u001b[39m\u001b[38;5;241m.\u001b[39mcommand_executor\u001b[38;5;241m.\u001b[39mexecute(driver_command, params)\n\u001b[1;32m    353\u001b[0m \u001b[38;5;28;01mif\u001b[39;00m response:\n\u001b[0;32m--> 354\u001b[0m     \u001b[38;5;28mself\u001b[39m\u001b[38;5;241m.\u001b[39merror_handler\u001b[38;5;241m.\u001b[39mcheck_response(response)\n\u001b[1;32m    355\u001b[0m     response[\u001b[38;5;124m\"\u001b[39m\u001b[38;5;124mvalue\u001b[39m\u001b[38;5;124m\"\u001b[39m] \u001b[38;5;241m=\u001b[39m \u001b[38;5;28mself\u001b[39m\u001b[38;5;241m.\u001b[39m_unwrap_value(response\u001b[38;5;241m.\u001b[39mget(\u001b[38;5;124m\"\u001b[39m\u001b[38;5;124mvalue\u001b[39m\u001b[38;5;124m\"\u001b[39m, \u001b[38;5;28;01mNone\u001b[39;00m))\n\u001b[1;32m    356\u001b[0m     \u001b[38;5;28;01mreturn\u001b[39;00m response\n",
      "File \u001b[0;32m~/anaconda3/lib/python3.12/site-packages/selenium/webdriver/remote/errorhandler.py:229\u001b[0m, in \u001b[0;36mErrorHandler.check_response\u001b[0;34m(self, response)\u001b[0m\n\u001b[1;32m    227\u001b[0m         alert_text \u001b[38;5;241m=\u001b[39m value[\u001b[38;5;124m\"\u001b[39m\u001b[38;5;124malert\u001b[39m\u001b[38;5;124m\"\u001b[39m]\u001b[38;5;241m.\u001b[39mget(\u001b[38;5;124m\"\u001b[39m\u001b[38;5;124mtext\u001b[39m\u001b[38;5;124m\"\u001b[39m)\n\u001b[1;32m    228\u001b[0m     \u001b[38;5;28;01mraise\u001b[39;00m exception_class(message, screen, stacktrace, alert_text)  \u001b[38;5;66;03m# type: ignore[call-arg]  # mypy is not smart enough here\u001b[39;00m\n\u001b[0;32m--> 229\u001b[0m \u001b[38;5;28;01mraise\u001b[39;00m exception_class(message, screen, stacktrace)\n",
      "\u001b[0;31mNoSuchElementException\u001b[0m: Message: Unable to locate element: .style__withDivider___3R1Em style__indented___pY5Wc; For documentation on this error, please visit: https://www.selenium.dev/documentation/webdriver/troubleshooting/errors#no-such-element-exception\nStacktrace:\nRemoteError@chrome://remote/content/shared/RemoteError.sys.mjs:8:8\nWebDriverError@chrome://remote/content/shared/webdriver/Errors.sys.mjs:193:5\nNoSuchElementError@chrome://remote/content/shared/webdriver/Errors.sys.mjs:511:5\ndom.find/</<@chrome://remote/content/shared/DOM.sys.mjs:136:16\n"
     ]
    }
   ],
   "source": [
    "data = pd.DataFrame({})\n",
    "#style__withDivider___1CvOz\n",
    "links = np.empty(0)\n",
    "names = np.empty(0)\n",
    "\n",
    "driver = webdriver.Firefox()\n",
    "driver.get('https://uwaterloo.ca/academic-calendar/undergraduate-studies/catalog#/programs')\n",
    "time.sleep(5)\n",
    "elements = driver.find_element(By.XPATH, '/html/body/div[3]/div/main/div[2]/div/div/div[3]/main/div/div[2]/div/div/div/ul').find_elements(By.XPATH, './/li')\n",
    "for element in elements:\n",
    "    driver.execute_script('arguments[0].scrollIntoView()', element)\n",
    "    time.sleep(0.5)\n",
    "    element.click()\n",
    "    time.sleep(0.3)\n",
    "    link_elements = element.find_element(By.CLASS_NAME, \"style__withDivider___3R1Em style__indented___pY5Wc\").find_elements(By.XPATH, './/li')\n",
    "    for link_li in link_elements:\n",
    "        link = link_li.find_element(By.TAG_NAME, 'a')\n",
    "        links = np.append(links, link.get_attribute('href'))\n",
    "        names = np.append(names, link.text)"
   ]
  },
  {
   "cell_type": "code",
   "execution_count": 27,
   "id": "f595f59f-f396-4085-9703-577e1fe5badb",
   "metadata": {},
   "outputs": [],
   "source": [
    "data['pnames'] = names\n",
    "data['purls'] = links"
   ]
  },
  {
   "cell_type": "code",
   "execution_count": 28,
   "id": "15f53c29-6a2f-427d-aa80-4f7f8aa9798c",
   "metadata": {},
   "outputs": [
    {
     "data": {
      "text/html": [
       "<div>\n",
       "<style scoped>\n",
       "    .dataframe tbody tr th:only-of-type {\n",
       "        vertical-align: middle;\n",
       "    }\n",
       "\n",
       "    .dataframe tbody tr th {\n",
       "        vertical-align: top;\n",
       "    }\n",
       "\n",
       "    .dataframe thead th {\n",
       "        text-align: right;\n",
       "    }\n",
       "</style>\n",
       "<table border=\"1\" class=\"dataframe\">\n",
       "  <thead>\n",
       "    <tr style=\"text-align: right;\">\n",
       "      <th></th>\n",
       "      <th>names</th>\n",
       "      <th>urls</th>\n",
       "    </tr>\n",
       "  </thead>\n",
       "  <tbody>\n",
       "    <tr>\n",
       "      <th>0</th>\n",
       "      <td>AFM100 - Introduction to Experiential Learning</td>\n",
       "      <td>https://uwaterloo.ca/academic-calendar/undergr...</td>\n",
       "    </tr>\n",
       "    <tr>\n",
       "      <th>1</th>\n",
       "      <td>AFM101 - Introduction to Financial Accounting</td>\n",
       "      <td>https://uwaterloo.ca/academic-calendar/undergr...</td>\n",
       "    </tr>\n",
       "    <tr>\n",
       "      <th>2</th>\n",
       "      <td>AFM102 - Introduction to Managerial Accounting</td>\n",
       "      <td>https://uwaterloo.ca/academic-calendar/undergr...</td>\n",
       "    </tr>\n",
       "    <tr>\n",
       "      <th>3</th>\n",
       "      <td>AFM111 - Professional Pathways and Problem-Sol...</td>\n",
       "      <td>https://uwaterloo.ca/academic-calendar/undergr...</td>\n",
       "    </tr>\n",
       "    <tr>\n",
       "      <th>4</th>\n",
       "      <td>AFM112 - Analytic Methods for Business 1</td>\n",
       "      <td>https://uwaterloo.ca/academic-calendar/undergr...</td>\n",
       "    </tr>\n",
       "  </tbody>\n",
       "</table>\n",
       "</div>"
      ],
      "text/plain": [
       "                                               names  \\\n",
       "0     AFM100 - Introduction to Experiential Learning   \n",
       "1      AFM101 - Introduction to Financial Accounting   \n",
       "2     AFM102 - Introduction to Managerial Accounting   \n",
       "3  AFM111 - Professional Pathways and Problem-Sol...   \n",
       "4           AFM112 - Analytic Methods for Business 1   \n",
       "\n",
       "                                                urls  \n",
       "0  https://uwaterloo.ca/academic-calendar/undergr...  \n",
       "1  https://uwaterloo.ca/academic-calendar/undergr...  \n",
       "2  https://uwaterloo.ca/academic-calendar/undergr...  \n",
       "3  https://uwaterloo.ca/academic-calendar/undergr...  \n",
       "4  https://uwaterloo.ca/academic-calendar/undergr...  "
      ]
     },
     "execution_count": 28,
     "metadata": {},
     "output_type": "execute_result"
    }
   ],
   "source": [
    "data.head()"
   ]
  },
  {
   "cell_type": "code",
   "execution_count": 33,
   "id": "3f8456ad-853c-42b6-824a-7b68afe91cab",
   "metadata": {},
   "outputs": [],
   "source": [
    "def split_course_string(course_string):\n",
    "    # Find the position of the first ' - '\n",
    "    split_pos = course_string.find(' - ')\n",
    "    \n",
    "    # If ' - ' is found, split the string\n",
    "    if split_pos != -1:\n",
    "        course_code = course_string[:split_pos]\n",
    "        course_name = course_string[split_pos + 3:]  # +3 to skip ' - '\n",
    "        return [course_code, course_name] \n"
   ]
  },
  {
   "cell_type": "code",
   "execution_count": 34,
   "id": "bfcecc92-c169-4cc3-9fd9-89423d86916c",
   "metadata": {},
   "outputs": [],
   "source": [
    "a = data['names'].copy()\n",
    "b = data['names'].copy()\n",
    "for i,k in enumerate(a):\n",
    "    a[i] = split_course_string(k)[0]\n",
    "for i,k in enumerate(b):\n",
    "    b[i] = split_course_string(k)[1]"
   ]
  },
  {
   "cell_type": "code",
   "execution_count": 35,
   "id": "1c515e96-f7da-47f0-b7bb-1d203d24a22f",
   "metadata": {},
   "outputs": [],
   "source": [
    "data[\"Abbreviation\"] = a\n",
    "data[\"Course Name\"] = b"
   ]
  },
  {
   "cell_type": "code",
   "execution_count": 36,
   "id": "9cd6a6d1-fcb1-4183-ad8f-56a81a04ccbe",
   "metadata": {},
   "outputs": [
    {
     "data": {
      "text/html": [
       "<div>\n",
       "<style scoped>\n",
       "    .dataframe tbody tr th:only-of-type {\n",
       "        vertical-align: middle;\n",
       "    }\n",
       "\n",
       "    .dataframe tbody tr th {\n",
       "        vertical-align: top;\n",
       "    }\n",
       "\n",
       "    .dataframe thead th {\n",
       "        text-align: right;\n",
       "    }\n",
       "</style>\n",
       "<table border=\"1\" class=\"dataframe\">\n",
       "  <thead>\n",
       "    <tr style=\"text-align: right;\">\n",
       "      <th></th>\n",
       "      <th>names</th>\n",
       "      <th>urls</th>\n",
       "      <th>Abbreviation</th>\n",
       "      <th>Course Name</th>\n",
       "    </tr>\n",
       "  </thead>\n",
       "  <tbody>\n",
       "    <tr>\n",
       "      <th>0</th>\n",
       "      <td>AFM100 - Introduction to Experiential Learning</td>\n",
       "      <td>https://uwaterloo.ca/academic-calendar/undergr...</td>\n",
       "      <td>AFM100</td>\n",
       "      <td>Introduction to Experiential Learning</td>\n",
       "    </tr>\n",
       "    <tr>\n",
       "      <th>1</th>\n",
       "      <td>AFM101 - Introduction to Financial Accounting</td>\n",
       "      <td>https://uwaterloo.ca/academic-calendar/undergr...</td>\n",
       "      <td>AFM101</td>\n",
       "      <td>Introduction to Financial Accounting</td>\n",
       "    </tr>\n",
       "    <tr>\n",
       "      <th>2</th>\n",
       "      <td>AFM102 - Introduction to Managerial Accounting</td>\n",
       "      <td>https://uwaterloo.ca/academic-calendar/undergr...</td>\n",
       "      <td>AFM102</td>\n",
       "      <td>Introduction to Managerial Accounting</td>\n",
       "    </tr>\n",
       "    <tr>\n",
       "      <th>3</th>\n",
       "      <td>AFM111 - Professional Pathways and Problem-Sol...</td>\n",
       "      <td>https://uwaterloo.ca/academic-calendar/undergr...</td>\n",
       "      <td>AFM111</td>\n",
       "      <td>Professional Pathways and Problem-Solving</td>\n",
       "    </tr>\n",
       "    <tr>\n",
       "      <th>4</th>\n",
       "      <td>AFM112 - Analytic Methods for Business 1</td>\n",
       "      <td>https://uwaterloo.ca/academic-calendar/undergr...</td>\n",
       "      <td>AFM112</td>\n",
       "      <td>Analytic Methods for Business 1</td>\n",
       "    </tr>\n",
       "  </tbody>\n",
       "</table>\n",
       "</div>"
      ],
      "text/plain": [
       "                                               names  \\\n",
       "0     AFM100 - Introduction to Experiential Learning   \n",
       "1      AFM101 - Introduction to Financial Accounting   \n",
       "2     AFM102 - Introduction to Managerial Accounting   \n",
       "3  AFM111 - Professional Pathways and Problem-Sol...   \n",
       "4           AFM112 - Analytic Methods for Business 1   \n",
       "\n",
       "                                                urls Abbreviation  \\\n",
       "0  https://uwaterloo.ca/academic-calendar/undergr...       AFM100   \n",
       "1  https://uwaterloo.ca/academic-calendar/undergr...       AFM101   \n",
       "2  https://uwaterloo.ca/academic-calendar/undergr...       AFM102   \n",
       "3  https://uwaterloo.ca/academic-calendar/undergr...       AFM111   \n",
       "4  https://uwaterloo.ca/academic-calendar/undergr...       AFM112   \n",
       "\n",
       "                                 Course Name  \n",
       "0      Introduction to Experiential Learning  \n",
       "1       Introduction to Financial Accounting  \n",
       "2      Introduction to Managerial Accounting  \n",
       "3  Professional Pathways and Problem-Solving  \n",
       "4            Analytic Methods for Business 1  "
      ]
     },
     "execution_count": 36,
     "metadata": {},
     "output_type": "execute_result"
    }
   ],
   "source": [
    "data.head()"
   ]
  },
  {
   "cell_type": "code",
   "execution_count": 47,
   "id": "cf2ba960-e01c-4982-ab2d-eca6d54bbaf6",
   "metadata": {},
   "outputs": [],
   "source": [
    "def find_desc_html(link, DRIVER):\n",
    "    driver.get(link)\n",
    "    time.sleep(0.1)\n",
    "    element = driver.find_element(By.XPATH, '/html/body/div[3]/div/main/div[2]/div/div/div[3]/main/div/div/div/div[2]/div/div[2]')\n",
    "    return element.get_attribute('innerHTML')"
   ]
  },
  {
   "cell_type": "code",
   "execution_count": 48,
   "id": "80ee6f67-7f8b-43d3-ad9e-02e3ddb9231c",
   "metadata": {},
   "outputs": [],
   "source": [
    "driver = webdriver.Firefox()\n",
    "l = data['urls'].copy()\n",
    "for i,k in enumerate(l):\n",
    "    l[i] = find_desc_html(k, driver)"
   ]
  },
  {
   "cell_type": "code",
   "execution_count": 49,
   "id": "b5943d27-3928-42cc-a2f7-d78977a80651",
   "metadata": {},
   "outputs": [],
   "source": [
    "data['FULL HTML'] = l"
   ]
  },
  {
   "cell_type": "code",
   "execution_count": 51,
   "id": "725c4586-63af-45bd-920b-7de389cb33f7",
   "metadata": {},
   "outputs": [],
   "source": [
    "data.to_csv(\"BOMBOCLAT.csv\")"
   ]
  },
  {
   "cell_type": "code",
   "execution_count": null,
   "id": "ebc0a630-54ac-49f5-b620-8e4f036ccfdd",
   "metadata": {},
   "outputs": [],
   "source": []
  }
 ],
 "metadata": {
  "kernelspec": {
   "display_name": "Python 3 (ipykernel)",
   "language": "python",
   "name": "python3"
  },
  "language_info": {
   "codemirror_mode": {
    "name": "ipython",
    "version": 3
   },
   "file_extension": ".py",
   "mimetype": "text/x-python",
   "name": "python",
   "nbconvert_exporter": "python",
   "pygments_lexer": "ipython3",
   "version": "3.12.4"
  }
 },
 "nbformat": 4,
 "nbformat_minor": 5
}
